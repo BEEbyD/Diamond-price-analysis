{
 "cells": [
  {
   "cell_type": "markdown",
   "id": "f4fef04c",
   "metadata": {},
   "source": [
    "# DIAMOND PRICE ANALYSIS"
   ]
  },
  {
   "cell_type": "code",
   "execution_count": 172,
   "id": "68fc9f68",
   "metadata": {},
   "outputs": [],
   "source": [
    "import pandas as pd\n",
    "import numpy as np\n",
    "from scipy import stats\n",
    "import statsmodels.api as sm\n",
    "import matplotlib.pyplot as plt\n",
    "import seaborn as sns"
   ]
  },
  {
   "cell_type": "code",
   "execution_count": 173,
   "id": "018a8548",
   "metadata": {},
   "outputs": [
    {
     "data": {
      "text/html": [
       "<div>\n",
       "<style scoped>\n",
       "    .dataframe tbody tr th:only-of-type {\n",
       "        vertical-align: middle;\n",
       "    }\n",
       "\n",
       "    .dataframe tbody tr th {\n",
       "        vertical-align: top;\n",
       "    }\n",
       "\n",
       "    .dataframe thead th {\n",
       "        text-align: right;\n",
       "    }\n",
       "</style>\n",
       "<table border=\"1\" class=\"dataframe\">\n",
       "  <thead>\n",
       "    <tr style=\"text-align: right;\">\n",
       "      <th></th>\n",
       "      <th>IDNO</th>\n",
       "      <th>WEIGHT</th>\n",
       "      <th>COLOR</th>\n",
       "      <th>CLARITY</th>\n",
       "      <th>RATER</th>\n",
       "      <th>PRICE</th>\n",
       "    </tr>\n",
       "  </thead>\n",
       "  <tbody>\n",
       "    <tr>\n",
       "      <th>0</th>\n",
       "      <td>1</td>\n",
       "      <td>0.30</td>\n",
       "      <td>D</td>\n",
       "      <td>VS2</td>\n",
       "      <td>GIA</td>\n",
       "      <td>1302</td>\n",
       "    </tr>\n",
       "    <tr>\n",
       "      <th>1</th>\n",
       "      <td>2</td>\n",
       "      <td>0.30</td>\n",
       "      <td>E</td>\n",
       "      <td>VS1</td>\n",
       "      <td>GIA</td>\n",
       "      <td>1510</td>\n",
       "    </tr>\n",
       "    <tr>\n",
       "      <th>2</th>\n",
       "      <td>3</td>\n",
       "      <td>0.30</td>\n",
       "      <td>G</td>\n",
       "      <td>VVS1</td>\n",
       "      <td>GIA</td>\n",
       "      <td>1510</td>\n",
       "    </tr>\n",
       "    <tr>\n",
       "      <th>3</th>\n",
       "      <td>4</td>\n",
       "      <td>0.30</td>\n",
       "      <td>G</td>\n",
       "      <td>VS1</td>\n",
       "      <td>GIA</td>\n",
       "      <td>1260</td>\n",
       "    </tr>\n",
       "    <tr>\n",
       "      <th>4</th>\n",
       "      <td>5</td>\n",
       "      <td>0.31</td>\n",
       "      <td>D</td>\n",
       "      <td>VS1</td>\n",
       "      <td>GIA</td>\n",
       "      <td>1641</td>\n",
       "    </tr>\n",
       "  </tbody>\n",
       "</table>\n",
       "</div>"
      ],
      "text/plain": [
       "   IDNO  WEIGHT COLOR CLARITY RATER  PRICE\n",
       "0     1    0.30     D     VS2   GIA   1302\n",
       "1     2    0.30     E     VS1   GIA   1510\n",
       "2     3    0.30     G    VVS1   GIA   1510\n",
       "3     4    0.30     G     VS1   GIA   1260\n",
       "4     5    0.31     D     VS1   GIA   1641"
      ]
     },
     "execution_count": 173,
     "metadata": {},
     "output_type": "execute_result"
    }
   ],
   "source": [
    "# Load the dataset and print first 5 rows\n",
    "df = pd.read_excel(\"data.xlsx\")\n",
    "df.head()"
   ]
  },
  {
   "cell_type": "code",
   "execution_count": 174,
   "id": "cbce5281",
   "metadata": {},
   "outputs": [
    {
     "data": {
      "text/plain": [
       "IDNO       0\n",
       "WEIGHT     0\n",
       "COLOR      0\n",
       "CLARITY    0\n",
       "RATER      0\n",
       "PRICE      0\n",
       "dtype: int64"
      ]
     },
     "execution_count": 174,
     "metadata": {},
     "output_type": "execute_result"
    }
   ],
   "source": [
    "df.isna().sum()"
   ]
  },
  {
   "cell_type": "code",
   "execution_count": 175,
   "id": "2ff7d55e",
   "metadata": {},
   "outputs": [
    {
     "data": {
      "text/plain": [
       "IDNO         int64\n",
       "WEIGHT     float64\n",
       "COLOR       object\n",
       "CLARITY     object\n",
       "RATER       object\n",
       "PRICE        int64\n",
       "dtype: object"
      ]
     },
     "execution_count": 175,
     "metadata": {},
     "output_type": "execute_result"
    }
   ],
   "source": [
    "df.dtypes"
   ]
  },
  {
   "cell_type": "markdown",
   "id": "0776102c",
   "metadata": {},
   "source": [
    "###  1. Regression and Correlation Analysis"
   ]
  },
  {
   "cell_type": "code",
   "execution_count": 176,
   "id": "c22222e6",
   "metadata": {},
   "outputs": [
    {
     "name": "stdout",
     "output_type": "stream",
     "text": [
      "Pearson Correlation: PearsonRResult(statistic=np.float64(0.9447266196457202), pvalue=np.float64(3.044809626588812e-150))\n"
     ]
    }
   ],
   "source": [
    "# 1. Compute Pearson Correlation and Linear Regression\n",
    "# Pearson correlation\n",
    "correlation = stats.pearsonr(df['WEIGHT'], df['PRICE'])\n",
    "print(\"Pearson Correlation:\", correlation)\n",
    "\n"
   ]
  },
  {
   "cell_type": "markdown",
   "id": "3427a357",
   "metadata": {},
   "source": [
    "### Correlation Output:\n",
    "Correlation coefficient (r): 0.945\n",
    "p-value: 3.04 × 10⁻¹⁵⁰\n",
    "\n",
    "### Interpretation:\n",
    "Correlation coefficient of 0.945 shows there exist a very strong positive linear relationship between diamond weight and price.\n",
    "\n",
    "The p-value is extremely small (< 0.001), meaning this correlation is statistically significant. Implying that as diamond weight increases, price also increases significantly and consistently.\n"
   ]
  },
  {
   "cell_type": "code",
   "execution_count": 177,
   "id": "247122fc",
   "metadata": {},
   "outputs": [
    {
     "name": "stdout",
     "output_type": "stream",
     "text": [
      "                            OLS Regression Results                            \n",
      "==============================================================================\n",
      "Dep. Variable:                  PRICE   R-squared:                       0.893\n",
      "Model:                            OLS   Adj. R-squared:                  0.892\n",
      "Method:                 Least Squares   F-statistic:                     2541.\n",
      "Date:                Thu, 10 Apr 2025   Prob (F-statistic):          3.04e-150\n",
      "Time:                        14:00:35   Log-Likelihood:                -2597.9\n",
      "No. Observations:                 308   AIC:                             5200.\n",
      "Df Residuals:                     306   BIC:                             5207.\n",
      "Df Model:                           1                                         \n",
      "Covariance Type:            nonrobust                                         \n",
      "==============================================================================\n",
      "                 coef    std err          t      P>|t|      [0.025      0.975]\n",
      "------------------------------------------------------------------------------\n",
      "const      -2298.3576    158.531    -14.498      0.000   -2610.306   -1986.410\n",
      "WEIGHT       1.16e+04    230.111     50.406      0.000    1.11e+04    1.21e+04\n",
      "==============================================================================\n",
      "Omnibus:                      170.301   Durbin-Watson:                   1.216\n",
      "Prob(Omnibus):                  0.000   Jarque-Bera (JB):             1324.411\n",
      "Skew:                           2.168   Prob(JB):                    2.56e-288\n",
      "Kurtosis:                      12.187   Cond. No.                         5.13\n",
      "==============================================================================\n",
      "\n",
      "Notes:\n",
      "[1] Standard Errors assume that the covariance matrix of the errors is correctly specified.\n"
     ]
    }
   ],
   "source": [
    "# Linear Regression\n",
    "X = sm.add_constant(df['WEIGHT']) \n",
    "model = sm.OLS(df['PRICE'], X).fit()\n",
    "\n",
    "# Summary for regression model\n",
    "print(model.summary())"
   ]
  },
  {
   "cell_type": "markdown",
   "id": "67f5db3f",
   "metadata": {},
   "source": [
    " ### Interpretation\n",
    "Regression Equation:\n",
    "\n",
    "Price= −2298.36+11598.88×Weight\n",
    "\n",
    "R-squared = 0.893\n",
    "Close to 89.3% of the variation in diamond price is explained by its weight  \n",
    "\n",
    "p-value for WEIGHT < .001\n",
    "The weight of a diamond is highly statistically significant in predicting price.\n",
    "\n",
    "F-statistic = 2541, p < .001\n",
    "The model as a whole is statistically significant.\n",
    "\n",
    " "
   ]
  },
  {
   "cell_type": "code",
   "execution_count": 178,
   "id": "49055700",
   "metadata": {},
   "outputs": [
    {
     "name": "stdout",
     "output_type": "stream",
     "text": [
      "Slope: 11598.884012882314\n"
     ]
    }
   ],
   "source": [
    "# a. Slope \n",
    "slope = model.params['WEIGHT']\n",
    "print(f\"Slope: {slope}\")"
   ]
  },
  {
   "cell_type": "markdown",
   "id": "21d90071",
   "metadata": {},
   "source": [
    "a. Slope associated with weight:\n",
    "11,598.88\n",
    "\n",
    "This means for every 1 carat increase in weight, the price increases by approximately $11,599."
   ]
  },
  {
   "cell_type": "code",
   "execution_count": 179,
   "id": "8b5ff86f",
   "metadata": {},
   "outputs": [
    {
     "name": "stdout",
     "output_type": "stream",
     "text": [
      "Constant: -2298.357601893803\n"
     ]
    }
   ],
   "source": [
    "# b. Constant\n",
    "constant = model.params['const']\n",
    "print(f\"Constant: {constant}\")"
   ]
  },
  {
   "cell_type": "markdown",
   "id": "c6a596d8",
   "metadata": {},
   "source": [
    "b. Constant for the regression equation \n",
    " -2,298.36\n",
    "\n",
    "This is the expected price when the weight is 0 theoretical,but not practical."
   ]
  },
  {
   "cell_type": "code",
   "execution_count": 180,
   "id": "5ca86fba",
   "metadata": {},
   "outputs": [
    {
     "name": "stdout",
     "output_type": "stream",
     "text": [
      "Mean Weight: 0.6309090909090909\n",
      "Mean Price: 5019.483766233766\n"
     ]
    }
   ],
   "source": [
    "# c. Mean weight and price\n",
    "mean_carat = df['WEIGHT'].mean()\n",
    "mean_price = df['PRICE'].mean()\n",
    "print(f\"Mean Weight: {mean_carat}\")\n",
    "print(f\"Mean Price: {mean_price}\")"
   ]
  },
  {
   "cell_type": "markdown",
   "id": "1f014900",
   "metadata": {},
   "source": [
    "c. Mean values:\n",
    "\n",
    "Mean weight = 0.63 carats\n",
    "\n",
    "Mean price = $5,019.48"
   ]
  },
  {
   "cell_type": "code",
   "execution_count": 181,
   "id": "63b08ddf",
   "metadata": {},
   "outputs": [
    {
     "name": "stdout",
     "output_type": "stream",
     "text": [
      "Correlation: 0.9447266196457202\n",
      "Correlation p-value: 3.044809626588812e-150\n"
     ]
    }
   ],
   "source": [
    "# d. Correlation and significance\n",
    "correlation_value = correlation[0]\n",
    "p_value_correlation = correlation[1]\n",
    "print(f\"Correlation: {correlation_value}\")\n",
    "print(f\"Correlation p-value: {p_value_correlation}\")"
   ]
  },
  {
   "cell_type": "markdown",
   "id": "97d7beb3",
   "metadata": {},
   "source": [
    "### Correlation Output:\n",
    "Correlation coefficient (r): 0.945\n",
    "p-value: 3.04 × 10⁻¹⁵⁰\n",
    "\n",
    "### Interpretation:\n",
    "Correlation coefficient of 0.945 shows there exist a very strong positive linear relationship between diamond weight and price.\n",
    "\n",
    "The p-value is extremely small (< 0.001), meaning this correlation is statistically significant. Implying that as diamond weight increases, price also increases significantly and consistently."
   ]
  },
  {
   "cell_type": "code",
   "execution_count": 182,
   "id": "13dc02ac",
   "metadata": {},
   "outputs": [
    {
     "name": "stdout",
     "output_type": "stream",
     "text": [
      "Regression Equation: Price = -2298.357601893803 + 11598.884012882314 * Weight\n"
     ]
    }
   ],
   "source": [
    "# e. Regression Equation\n",
    "print(f\"Regression Equation: Price = {constant} + {slope} * Weight\")"
   ]
  },
  {
   "cell_type": "markdown",
   "id": "2fa52363",
   "metadata": {},
   "source": [
    "### Regression Equation:\n",
    "\n",
    "Price= −2298.36+11598.88×Weight"
   ]
  },
  {
   "cell_type": "code",
   "execution_count": 183,
   "id": "48922048",
   "metadata": {},
   "outputs": [
    {
     "data": {
      "image/png": "[encoded data removed]",
      "text/plain": [
       "<Figure size 640x480 with 1 Axes>"
      ]
     },
     "metadata": {},
     "output_type": "display_data"
    }
   ],
   "source": [
    "# 2. Scatterplot with Regression Line\n",
    "sns.scatterplot(x='WEIGHT', y='PRICE', data=df)\n",
    "plt.plot(df['WEIGHT'], model.predict(X), color='red')\n",
    "plt.title('Diamond Price vs. Weight')\n",
    "plt.xlabel('Weight')\n",
    "plt.ylabel('Price')\n",
    "plt.show()"
   ]
  },
  {
   "cell_type": "markdown",
   "id": "fb01525c",
   "metadata": {},
   "source": [
    "Strong Positive Linear Relationship exists:\n",
    "The points form a tight, upward-sloping cluster around the regression line suggesting that as weight increases, price also increases—almost proportionally.\n",
    "\n",
    "High Predictability:\n",
    "Given that most data points lie close to the line of best fit, there is low dispersion, meaning weight is a strong predictor of price.  "
   ]
  },
  {
   "cell_type": "code",
   "execution_count": 184,
   "id": "5574e533",
   "metadata": {},
   "outputs": [
    {
     "name": "stdout",
     "output_type": "stream",
     "text": [
      "                            OLS Regression Results                            \n",
      "==============================================================================\n",
      "Dep. Variable:                  PRICE   R-squared:                       0.893\n",
      "Model:                            OLS   Adj. R-squared:                  0.892\n",
      "Method:                 Least Squares   F-statistic:                     2541.\n",
      "Date:                Thu, 10 Apr 2025   Prob (F-statistic):          3.04e-150\n",
      "Time:                        14:00:36   Log-Likelihood:                -2597.9\n",
      "No. Observations:                 308   AIC:                             5200.\n",
      "Df Residuals:                     306   BIC:                             5207.\n",
      "Df Model:                           1                                         \n",
      "Covariance Type:            nonrobust                                         \n",
      "==============================================================================\n",
      "                 coef    std err          t      P>|t|      [0.025      0.975]\n",
      "------------------------------------------------------------------------------\n",
      "const      -2298.3576    158.531    -14.498      0.000   -2610.306   -1986.410\n",
      "WEIGHT       1.16e+04    230.111     50.406      0.000    1.11e+04    1.21e+04\n",
      "==============================================================================\n",
      "Omnibus:                      170.301   Durbin-Watson:                   1.216\n",
      "Prob(Omnibus):                  0.000   Jarque-Bera (JB):             1324.411\n",
      "Skew:                           2.168   Prob(JB):                    2.56e-288\n",
      "Kurtosis:                      12.187   Cond. No.                         5.13\n",
      "==============================================================================\n",
      "\n",
      "Notes:\n",
      "[1] Standard Errors assume that the covariance matrix of the errors is correctly specified.\n"
     ]
    }
   ],
   "source": [
    "# 3. Significance of Relationship\n",
    "print(model.summary())"
   ]
  },
  {
   "cell_type": "markdown",
   "id": "b4aeb92a",
   "metadata": {},
   "source": [
    "### 3. Is the price significantly related to the diamond’s weight? Interpret the results of the regression analysis to answer the question. \n",
    "\n",
    " ### Interpretation\n",
    "\n",
    "R-squared = 0.893\n",
    "Close to 89.3% of the variation in diamond price is explained by its weight  \n",
    "\n",
    "p-value for WEIGHT < .001\n",
    "The weight of a diamond is highly statistically significant in predicting price.\n",
    "\n",
    "F-statistic = 2541, p < .001\n",
    "The model as a whole is statistically significant.\n",
    "\n",
    "### Conclusion\n",
    "Price is significantly related to a diamond's weight. The regression model is strong, and weight explains a major portion of the variation in price."
   ]
  }
 ],
 "metadata": {
  "kernelspec": {
   "display_name": "pearson",
   "language": "python",
   "name": "python3"
  },
  "language_info": {
   "codemirror_mode": {
    "name": "ipython",
    "version": 3
   },
   "file_extension": ".py",
   "mimetype": "text/x-python",
   "name": "python",
   "nbconvert_exporter": "python",
   "pygments_lexer": "ipython3",
   "version": "3.10.11"
  }
 },
 "nbformat": 4,
 "nbformat_minor": 5
}
